{
 "cells": [
  {
   "cell_type": "markdown",
   "metadata": {},
   "source": [
    "### Example 2-1"
   ]
  },
  {
   "cell_type": "code",
   "execution_count": 108,
   "metadata": {
    "collapsed": true
   },
   "outputs": [],
   "source": [
    "import thinkstats\n",
    "from math import sqrt\n",
    "from operator import itemgetter\n",
    "from matplotlib import pyplot as plt\n",
    "def mean(data): return thinkstats.Mean(data)\n",
    "\n",
    "def variance(data): return thinkstats.Var(data)\n",
    "\n",
    "def std(data): return sqrt(thinkstats.Var(data))"
   ]
  },
  {
   "cell_type": "markdown",
   "metadata": {},
   "source": [
    "### Example 2-2"
   ]
  },
  {
   "cell_type": "markdown",
   "metadata": {},
   "source": [
    "see First.py"
   ]
  },
  {
   "cell_type": "code",
   "execution_count": 23,
   "metadata": {
    "collapsed": true
   },
   "outputs": [],
   "source": [
    "import Pmf"
   ]
  },
  {
   "cell_type": "code",
   "execution_count": 24,
   "metadata": {
    "collapsed": true
   },
   "outputs": [],
   "source": [
    "hist=Pmf.MakeHistFromList([1,2,2,3,4])"
   ]
  },
  {
   "cell_type": "code",
   "execution_count": 26,
   "metadata": {
    "collapsed": false
   },
   "outputs": [
    {
     "data": {
      "text/plain": [
       "2"
      ]
     },
     "execution_count": 26,
     "metadata": {},
     "output_type": "execute_result"
    }
   ],
   "source": [
    "hist.Freq(2)"
   ]
  },
  {
   "cell_type": "code",
   "execution_count": 28,
   "metadata": {
    "collapsed": false
   },
   "outputs": [
    {
     "data": {
      "text/plain": [
       "[1, 2, 3, 4]"
      ]
     },
     "execution_count": 28,
     "metadata": {},
     "output_type": "execute_result"
    }
   ],
   "source": [
    "hist.Values()"
   ]
  },
  {
   "cell_type": "markdown",
   "metadata": {},
   "source": [
    "### Example 2-3"
   ]
  },
  {
   "cell_type": "code",
   "execution_count": 103,
   "metadata": {
    "collapsed": true
   },
   "outputs": [],
   "source": [
    "def Mode(histObject):\n",
    "    return histObject.MaxLike()"
   ]
  },
  {
   "cell_type": "code",
   "execution_count": 104,
   "metadata": {
    "collapsed": false
   },
   "outputs": [],
   "source": [
    "def AllModes(histObject):\n",
    "    lst = list(histObject.Items())\n",
    "    return sorted(lst,key=itemgetter(1),reverse=True)"
   ]
  },
  {
   "cell_type": "code",
   "execution_count": 29,
   "metadata": {
    "collapsed": false
   },
   "outputs": [
    {
     "data": {
      "text/plain": [
       "[(1, 1), (2, 2), (3, 1), (4, 1)]"
      ]
     },
     "execution_count": 29,
     "metadata": {},
     "output_type": "execute_result"
    }
   ],
   "source": [
    "hist.Items()"
   ]
  },
  {
   "cell_type": "code",
   "execution_count": 112,
   "metadata": {
    "collapsed": false
   },
   "outputs": [],
   "source": [
    "lst=list(hist.Items())"
   ]
  },
  {
   "cell_type": "code",
   "execution_count": 113,
   "metadata": {
    "collapsed": false
   },
   "outputs": [
    {
     "data": {
      "text/plain": [
       "[(1, 1), (2, 2.2), (3, 1), (4, 1)]"
      ]
     },
     "execution_count": 113,
     "metadata": {},
     "output_type": "execute_result"
    }
   ],
   "source": [
    "lst"
   ]
  },
  {
   "cell_type": "code",
   "execution_count": 79,
   "metadata": {
    "collapsed": false
   },
   "outputs": [
    {
     "data": {
      "text/plain": [
       "2.2"
      ]
     },
     "execution_count": 79,
     "metadata": {},
     "output_type": "execute_result"
    }
   ],
   "source": [
    "hist.Freq(2)"
   ]
  },
  {
   "cell_type": "code",
   "execution_count": 105,
   "metadata": {
    "collapsed": false
   },
   "outputs": [
    {
     "data": {
      "text/plain": [
       "2.2"
      ]
     },
     "execution_count": 105,
     "metadata": {},
     "output_type": "execute_result"
    }
   ],
   "source": [
    "Mode(hist)"
   ]
  },
  {
   "cell_type": "code",
   "execution_count": 106,
   "metadata": {
    "collapsed": false
   },
   "outputs": [
    {
     "data": {
      "text/plain": [
       "[(2, 2.2), (1, 1), (3, 1), (4, 1)]"
      ]
     },
     "execution_count": 106,
     "metadata": {},
     "output_type": "execute_result"
    }
   ],
   "source": [
    "AllModes(hist)"
   ]
  },
  {
   "cell_type": "code",
   "execution_count": 146,
   "metadata": {
    "collapsed": true
   },
   "outputs": [],
   "source": [
    "probdict={0:1,1:0.5,2:0.3,3:0.25,4:0.1,5:0.001}\n",
    "thispmf = Pmf.MakePmfFromDict(probdict)"
   ]
  },
  {
   "cell_type": "markdown",
   "metadata": {},
   "source": [
    "### Example 2-4"
   ]
  },
  {
   "cell_type": "code",
   "execution_count": 147,
   "metadata": {
    "collapsed": false
   },
   "outputs": [],
   "source": [
    "def RemainingLifetime(ltPmf,age):\n",
    "    rmLtDict = {k-age:1-v for k,v in ltPmf.Items() if k>age}\n",
    "    return Pmf.MakePmfFromDict(rmLtDict)"
   ]
  },
  {
   "cell_type": "markdown",
   "metadata": {},
   "source": [
    "###Example 2-5"
   ]
  },
  {
   "cell_type": "code",
   "execution_count": 153,
   "metadata": {
    "collapsed": false
   },
   "outputs": [],
   "source": [
    "def PmfMean(pmfObject):\n",
    "    return sum([pi*xi for xi,pi in pmfObject.Items()])\n",
    "def PmfVar(pmfObject):\n",
    "    return sum([pi *(xi - PmfMean(pmfObject))**2 for xi,pi in pmfObject.Items()])"
   ]
  },
  {
   "cell_type": "code",
   "execution_count": 151,
   "metadata": {
    "collapsed": false
   },
   "outputs": [
    {
     "name": "stdout",
     "output_type": "stream",
     "text": [
      "1.04834960483\n",
      "1.04834960483\n"
     ]
    }
   ],
   "source": [
    "print PmfMean(thispmf)\n",
    "print thispmf.Mean()"
   ]
  },
  {
   "cell_type": "code",
   "execution_count": 155,
   "metadata": {
    "collapsed": false
   },
   "outputs": [
    {
     "name": "stdout",
     "output_type": "stream",
     "text": [
      "1.49278086522\n",
      "1.49278086522\n"
     ]
    }
   ],
   "source": [
    "print PmfVar(thispmf)\n",
    "print thispmf.Var()"
   ]
  },
  {
   "cell_type": "markdown",
   "metadata": {},
   "source": [
    "### Example 2-6: Relative Risk"
   ]
  },
  {
   "cell_type": "code",
   "execution_count": 157,
   "metadata": {
    "collapsed": true
   },
   "outputs": [],
   "source": [
    "import descriptive\n",
    "pool,firsts,others = descriptive.MakeTables() # the pmfs generated correspond to pregnancy lengths..."
   ]
  },
  {
   "cell_type": "code",
   "execution_count": 185,
   "metadata": {
    "collapsed": false
   },
   "outputs": [],
   "source": [
    "def CalcBinProb(pmfObject,minLen=False,maxLen=False):\n",
    "    if not minLen:\n",
    "        minLen = min(pmfObject.pmf.Values())\n",
    "    if not maxLen:\n",
    "        maxLen = max(pmfObject.pmf.Values())\n",
    "        \n",
    "    sumProb = 0\n",
    "    \n",
    "    for prlen in range(minLen,maxLen+1):\n",
    "           sumProb += pmfObject.pmf.Prob(prlen)\n",
    "    \n",
    "    return sumProb"
   ]
  },
  {
   "cell_type": "code",
   "execution_count": 190,
   "metadata": {
    "collapsed": false
   },
   "outputs": [],
   "source": [
    "def ProbEarly(pmfObject):\n",
    "    return round(CalcBinProb(pmfObject,maxLen = 37),3) * 100"
   ]
  },
  {
   "cell_type": "code",
   "execution_count": 191,
   "metadata": {
    "collapsed": false
   },
   "outputs": [],
   "source": [
    "def ProbOnTime(pmfObject):\n",
    "    return round(CalcBinProb(pmfObject,minLen = 38, maxLen = 40),3) * 100"
   ]
  },
  {
   "cell_type": "code",
   "execution_count": 192,
   "metadata": {
    "collapsed": true
   },
   "outputs": [],
   "source": [
    "def ProbLate(pmfObject):\n",
    "    return round(CalcBinProb(pmfObject,minLen = 41),3) * 100"
   ]
  },
  {
   "cell_type": "code",
   "execution_count": 198,
   "metadata": {
    "collapsed": false
   },
   "outputs": [],
   "source": [
    "def printout(table):\n",
    "    print \"prob. early: {0}%\".format(ProbEarly(table))\n",
    "    print \"prob. timely: {0}%\".format(ProbOnTime(table))\n",
    "    print \"prob. late: {0}%\".format(ProbLate(table))"
   ]
  },
  {
   "cell_type": "code",
   "execution_count": 208,
   "metadata": {
    "collapsed": false
   },
   "outputs": [],
   "source": [
    "def risk(firstTable,otherTable):\n",
    "    print \"Early birth relative risk is: {0}\".format(round(ProbEarly(firstTable) / ProbEarly(otherTable),2))\n",
    "    print \"Timely birth relative risk is: {0}\".format(round(ProbOnTime(firstTable) / ProbOnTime(otherTable),2) )\n",
    "    print \"Late birth relattive risk is: {0}\".format(round(ProbLate(firstTable) / ProbLate(otherTable),2))"
   ]
  },
  {
   "cell_type": "code",
   "execution_count": 199,
   "metadata": {
    "collapsed": false
   },
   "outputs": [
    {
     "name": "stdout",
     "output_type": "stream",
     "text": [
      "prob. early: 18.2%\n",
      "prob. timely: 66.2%\n",
      "prob. late: 15.5%\n"
     ]
    }
   ],
   "source": [
    "printout(firsts)"
   ]
  },
  {
   "cell_type": "code",
   "execution_count": 201,
   "metadata": {
    "collapsed": false
   },
   "outputs": [
    {
     "name": "stdout",
     "output_type": "stream",
     "text": [
      "prob. early: 16.8%\n",
      "prob. timely: 73.8%\n",
      "prob. late: 9.4%\n"
     ]
    }
   ],
   "source": [
    "printout(others)"
   ]
  },
  {
   "cell_type": "code",
   "execution_count": 202,
   "metadata": {
    "collapsed": false
   },
   "outputs": [
    {
     "name": "stdout",
     "output_type": "stream",
     "text": [
      "prob. early: 17.5%\n",
      "prob. timely: 70.1%\n",
      "prob. late: 12.4%\n"
     ]
    }
   ],
   "source": [
    "printout(pool)"
   ]
  },
  {
   "cell_type": "code",
   "execution_count": 209,
   "metadata": {
    "collapsed": false
   },
   "outputs": [
    {
     "name": "stdout",
     "output_type": "stream",
     "text": [
      "Early birth relative risk is: 1.08\n",
      "Timely birth relative risk is: 0.9\n",
      "Late birth relattive risk is: 1.65\n"
     ]
    }
   ],
   "source": [
    "risk(firsts,others)"
   ]
  },
  {
   "cell_type": "markdown",
   "metadata": {},
   "source": [
    "### Example 2.7"
   ]
  },
  {
   "cell_type": "code",
   "execution_count": null,
   "metadata": {
    "collapsed": true
   },
   "outputs": [],
   "source": []
  }
 ],
 "metadata": {
  "kernelspec": {
   "display_name": "Python 2",
   "language": "python",
   "name": "python2"
  },
  "language_info": {
   "codemirror_mode": {
    "name": "ipython",
    "version": 2
   },
   "file_extension": ".py",
   "mimetype": "text/x-python",
   "name": "python",
   "nbconvert_exporter": "python",
   "pygments_lexer": "ipython2",
   "version": "2.7.9"
  }
 },
 "nbformat": 4,
 "nbformat_minor": 0
}
