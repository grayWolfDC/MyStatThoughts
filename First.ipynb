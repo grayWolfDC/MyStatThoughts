{
 "cells": [
  {
   "cell_type": "code",
   "execution_count": 4,
   "metadata": {
    "collapsed": true
   },
   "outputs": [],
   "source": [
    "import survey\n",
    "from thinkstats import MeanVar\n",
    "from math import sqrt"
   ]
  },
  {
   "cell_type": "code",
   "execution_count": 6,
   "metadata": {
    "collapsed": true
   },
   "outputs": [],
   "source": [
    "table=survey.Pregnancies()"
   ]
  },
  {
   "cell_type": "code",
   "execution_count": 7,
   "metadata": {
    "collapsed": false
   },
   "outputs": [
    {
     "name": "stdout",
     "output_type": "stream",
     "text": [
      "Number of Pregnancies 13593\n"
     ]
    }
   ],
   "source": [
    "table.ReadRecords()\n",
    "print 'Number of Pregnancies',len(table.records)"
   ]
  },
  {
   "cell_type": "code",
   "execution_count": 11,
   "metadata": {
    "collapsed": false
   },
   "outputs": [
    {
     "name": "stdout",
     "output_type": "stream",
     "text": [
      "Total live births 9148\n",
      "Total first births 4413\n",
      "Total other births 4735\n",
      "Avg duration of 1st pregnancies:  38.6009517335\n",
      "Avg duration of other pregnancies:  38.5229144667\n",
      "difference is  13.1102608186 hrs\n",
      "Stdev of 1st pregnancy duration:  2.79158506982\n",
      "Stdev of oth. pregnancy duration:  2.61557611068\n"
     ]
    }
   ],
   "source": [
    "livebirths =firstbirths = otherbirths = 0\n",
    "aggPregLen1st= []\n",
    "aggPregLenOth = []\n",
    "for rec in table.records:\n",
    "    if rec.outcome == 1:\n",
    "        livebirths +=1\n",
    "        if rec.birthord == 1:\n",
    "            firstbirths += 1\n",
    "            aggPregLen1st.append(rec.prglength)\n",
    "        else:\n",
    "            otherbirths +=1\n",
    "            aggPregLenOth.append(rec.prglength)\n",
    "print \"Total live births\", livebirths\n",
    "print \"Total first births\", firstbirths\n",
    "print \"Total other births\", otherbirths\n",
    "avg1st,var1st = MeanVar(aggPregLen1st)\n",
    "avgOth,varOth = MeanVar(aggPregLenOth)\n",
    "#avg1st = float(aggPregLen1st) / firstbirths\n",
    "#avgOth = float(aggPregLenOth) / otherbirths\n",
    "print \"Avg duration of 1st pregnancies: \",avg1st\n",
    "print \"Avg duration of other pregnancies: \",avgOth\n",
    "print \"difference is \", (avg1st - avgOth) * 7 * 24, \"hrs\"\n",
    "\n",
    "print \"Stdev of 1st pregnancy duration: \",sqrt(var1st)\n",
    "print \"Stdev of oth. pregnancy duration: \",sqrt(varOth)"
   ]
  },
  {
   "cell_type": "code",
   "execution_count": null,
   "metadata": {
    "collapsed": true
   },
   "outputs": [],
   "source": [
    "std1st = A"
   ]
  }
 ],
 "metadata": {
  "kernelspec": {
   "display_name": "Python 2",
   "language": "python",
   "name": "python2"
  },
  "language_info": {
   "codemirror_mode": {
    "name": "ipython",
    "version": 2
   },
   "file_extension": ".py",
   "mimetype": "text/x-python",
   "name": "python",
   "nbconvert_exporter": "python",
   "pygments_lexer": "ipython2",
   "version": "2.7.9"
  }
 },
 "nbformat": 4,
 "nbformat_minor": 0
}
