{
 "cells": [
  {
   "cell_type": "code",
   "execution_count": 4,
   "metadata": {
    "collapsed": true
   },
   "outputs": [],
   "source": [
    "import survey\n",
    "from thinkstats import MeanVar\n",
    "from math import sqrt"
   ]
  },
  {
   "cell_type": "code",
   "execution_count": 6,
   "metadata": {
    "collapsed": true
   },
   "outputs": [],
   "source": [
    "table=survey.Pregnancies()"
   ]
  },
  {
   "cell_type": "code",
   "execution_count": 7,
   "metadata": {
    "collapsed": false
   },
   "outputs": [
    {
     "name": "stdout",
     "output_type": "stream",
     "text": [
      "Number of Pregnancies 13593\n"
     ]
    }
   ],
   "source": [
    "table.ReadRecords()\n",
    "print 'Number of Pregnancies',len(table.records)"
   ]
  },
  {
   "cell_type": "code",
   "execution_count": 11,
   "metadata": {
    "collapsed": false
   },
   "outputs": [
    {
     "name": "stdout",
     "output_type": "stream",
     "text": [
      "Total live births 9148\n",
      "Total first births 4413\n",
      "Total other births 4735\n",
      "Avg duration of 1st pregnancies:  38.6009517335\n",
      "Avg duration of other pregnancies:  38.5229144667\n",
      "difference is  13.1102608186 hrs\n",
      "Stdev of 1st pregnancy duration:  2.79158506982\n",
      "Stdev of oth. pregnancy duration:  2.61557611068\n"
     ]
    }
   ],
   "source": [
    "livebirths =firstbirths = otherbirths = 0\n",
    "aggPregLen1st= []\n",
    "aggPregLenOth = []\n",
    "for rec in table.records:\n",
    "    if rec.outcome == 1:\n",
    "        livebirths +=1\n",
    "        if rec.birthord == 1:\n",
    "            firstbirths += 1\n",
    "            aggPregLen1st.append(rec.prglength)\n",
    "        else:\n",
    "            otherbirths +=1\n",
    "            aggPregLenOth.append(rec.prglength)\n",
    "print \"Total live births\", livebirths\n",
    "print \"Total first births\", firstbirths\n",
    "print \"Total other births\", otherbirths\n",
    "avg1st,var1st = MeanVar(aggPregLen1st)\n",
    "avgOth,varOth = MeanVar(aggPregLenOth)\n",
    "#avg1st = float(aggPregLen1st) / firstbirths\n",
    "#avgOth = float(aggPregLenOth) / otherbirths\n",
    "print \"Avg duration of 1st pregnancies: \",avg1st\n",
    "print \"Avg duration of other pregnancies: \",avgOth\n",
    "print \"difference is \", (avg1st - avgOth) * 7 * 24, \"hrs\"\n",
    "\n",
    "print \"Stdev of 1st pregnancy duration: \",sqrt(var1st)\n",
    "print \"Stdev of oth. pregnancy duration: \",sqrt(varOth)"
   ]
  },
  {
   "cell_type": "code",
   "execution_count": 13,
   "metadata": {
    "collapsed": false
   },
   "outputs": [
    {
     "data": {
      "text/plain": [
       "survey.Pregnancies"
      ]
     },
     "execution_count": 13,
     "metadata": {},
     "output_type": "execute_result"
    }
   ],
   "source": [
    "type(table)"
   ]
  },
  {
   "cell_type": "code",
   "execution_count": 16,
   "metadata": {
    "collapsed": false
   },
   "outputs": [],
   "source": [
    "prglength=[]\n",
    "for rec in table.records:\n",
    "    prglength.append(rec.prglength)"
   ]
  },
  {
   "cell_type": "code",
   "execution_count": 18,
   "metadata": {
    "collapsed": true
   },
   "outputs": [],
   "source": [
    "import Pmf"
   ]
  },
  {
   "cell_type": "code",
   "execution_count": 35,
   "metadata": {
    "collapsed": false
   },
   "outputs": [
    {
     "data": {
      "text/plain": [
       "<matplotlib.legend.Legend at 0x7fb8084d3910>"
      ]
     },
     "execution_count": 35,
     "metadata": {},
     "output_type": "execute_result"
    },
    {
     "data": {
      "image/png": "[encoded data removed]",
      "text/plain": [
       "<matplotlib.figure.Figure at 0x7fb808501d90>"
      ]
     },
     "metadata": {},
     "output_type": "display_data"
    }
   ],
   "source": [
    "histPrLen1st = Pmf.MakeHistFromList(aggPregLen1st)\n",
    "histPrLenOth = Pmf.MakeHistFromList(aggPregLenOth)\n",
    "myplot.Hist(histPrLen1st,color='K',label='First babies')\n",
    "myplot.Hist(histPrLenOth,color='r',label='other babies',alpha=0.4)\n",
    "plt.legend()"
   ]
  },
  {
   "cell_type": "code",
   "execution_count": 23,
   "metadata": {
    "collapsed": false
   },
   "outputs": [
    {
     "data": {
      "image/png": "[encoded data removed]",
      "text/plain": [
       "<matplotlib.figure.Figure at 0x7fb8088c3990>"
      ]
     },
     "metadata": {},
     "output_type": "display_data"
    }
   ],
   "source": [
    "vals,freqs=histPrLen.Render()\n",
    "from matplotlib import pyplot as plt\n",
    "rectangles=plt.bar(vals,freqs)"
   ]
  },
  {
   "cell_type": "code",
   "execution_count": 21,
   "metadata": {
    "collapsed": true
   },
   "outputs": [],
   "source": [
    "%matplotlib inline"
   ]
  },
  {
   "cell_type": "code",
   "execution_count": 26,
   "metadata": {
    "collapsed": false
   },
   "outputs": [],
   "source": [
    "import myplot"
   ]
  },
  {
   "cell_type": "code",
   "execution_count": 24,
   "metadata": {
    "collapsed": false
   },
   "outputs": [
    {
     "name": "stdout",
     "output_type": "stream",
     "text": [
      "2002FemPreg.dat     \u001b[0m\u001b[01;31m2002FemResp.dat.gz\u001b[0m  first.py   Pmf.py     survey.pyc\r\n",
      "\u001b[01;31m2002FemPreg.dat.gz\u001b[0m  Ch2.ipynb           myapp.log  Pmf.pyc    thinkstats.py\r\n",
      "2002FemResp.dat     First.ipynb         myapp.py   survey.py  thinkstats.pyc\r\n"
     ]
    }
   ],
   "source": [
    "ls"
   ]
  },
  {
   "cell_type": "code",
   "execution_count": 38,
   "metadata": {
    "collapsed": false
   },
   "outputs": [],
   "source": [
    "import first"
   ]
  },
  {
   "cell_type": "code",
   "execution_count": 47,
   "metadata": {
    "collapsed": true
   },
   "outputs": [],
   "source": [
    "_,firsts,others = first.MakeTables()"
   ]
  },
  {
   "cell_type": "code",
   "execution_count": 48,
   "metadata": {
    "collapsed": true
   },
   "outputs": [],
   "source": [
    "first.Process(firsts)"
   ]
  },
  {
   "cell_type": "code",
   "execution_count": 49,
   "metadata": {
    "collapsed": true
   },
   "outputs": [],
   "source": [
    "first.Process(others)"
   ]
  },
  {
   "cell_type": "code",
   "execution_count": 50,
   "metadata": {
    "collapsed": true
   },
   "outputs": [],
   "source": [
    "import descriptive"
   ]
  },
  {
   "cell_type": "code",
   "execution_count": 51,
   "metadata": {
    "collapsed": true
   },
   "outputs": [],
   "source": [
    "pool,firsts,others = descriptive.MakeTables()"
   ]
  },
  {
   "cell_type": "code",
   "execution_count": 58,
   "metadata": {
    "collapsed": false
   },
   "outputs": [
    {
     "data": {
      "text/plain": [
       "1.0"
      ]
     },
     "execution_count": 58,
     "metadata": {},
     "output_type": "execute_result"
    }
   ],
   "source": [
    "others.pmf.Total()"
   ]
  },
  {
   "cell_type": "code",
   "execution_count": null,
   "metadata": {
    "collapsed": true
   },
   "outputs": [],
   "source": []
  }
 ],
 "metadata": {
  "kernelspec": {
   "display_name": "Python 2",
   "language": "python",
   "name": "python2"
  },
  "language_info": {
   "codemirror_mode": {
    "name": "ipython",
    "version": 2
   },
   "file_extension": ".py",
   "mimetype": "text/x-python",
   "name": "python",
   "nbconvert_exporter": "python",
   "pygments_lexer": "ipython2",
   "version": "2.7.9"
  }
 },
 "nbformat": 4,
 "nbformat_minor": 0
}
